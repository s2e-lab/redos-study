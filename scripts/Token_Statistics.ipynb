{
 "cells": [
  {
   "cell_type": "code",
   "execution_count": 20,
   "metadata": {},
   "outputs": [],
   "source": [
    "import json\n",
    "from tqdm import tqdm"
   ]
  },
  {
   "cell_type": "code",
   "execution_count": 21,
   "metadata": {},
   "outputs": [
    {
     "data": {
      "text/plain": [
       "762"
      ]
     },
     "execution_count": 21,
     "metadata": {},
     "output_type": "execute_result"
    }
   ],
   "source": [
    "with open('./GPT3.5_Raw_Output.json', 'r') as f:\n",
    "    data = json.load(f)\n",
    "\n",
    "len(data)"
   ]
  },
  {
   "cell_type": "code",
   "execution_count": 22,
   "metadata": {},
   "outputs": [],
   "source": [
    "import numpy as np"
   ]
  },
  {
   "cell_type": "code",
   "execution_count": 23,
   "metadata": {},
   "outputs": [
    {
     "name": "stderr",
     "output_type": "stream",
     "text": [
      "100%|██████████| 762/762 [00:00<00:00, 902841.71it/s]"
     ]
    },
    {
     "name": "stdout",
     "output_type": "stream",
     "text": [
      "Prompt size: \n",
      "Sum:  71902\n",
      "Mean:  94.35958005249344\n",
      "Min 47\n",
      "Max 488\n",
      "25th percentile 70.0\n",
      "50th percentile 86.0\n",
      "75th percentile 106.0\n",
      "completion tokens: \n",
      "Sum:  236786\n",
      "Mean:  310.742782152231\n",
      "Min 20\n",
      "Max 1280\n",
      "25th percentile 129.25\n",
      "50th percentile 234.0\n",
      "75th percentile 390.0\n",
      "Total size: \n",
      "Sum:  308688\n",
      "Mean:  405.1023622047244\n",
      "Min 71\n",
      "Max 1492\n",
      "25th percentile 214.0\n",
      "50th percentile 326.0\n",
      "75th percentile 502.75\n"
     ]
    },
    {
     "name": "stderr",
     "output_type": "stream",
     "text": [
      "\n"
     ]
    }
   ],
   "source": [
    "prompt_size = []\n",
    "total_size = []\n",
    "newtokens = []\n",
    "\n",
    "for i in tqdm(range(len(data))):\n",
    "    d = data[i]['gpt3.5_output']['usage']\n",
    "    prompt_size.append(d['prompt_tokens'])\n",
    "    total_size.append(d['total_tokens'])\n",
    "    newtokens.append(d['completion_tokens'])\n",
    "    \n",
    "\n",
    "prompt_size = np.array(prompt_size)\n",
    "total_size = np.array(total_size)\n",
    "newtokens = np.array(newtokens)\n",
    "\n",
    "print('Prompt size: ')\n",
    "print('Sum: ', prompt_size.sum())\n",
    "print('Mean: ', prompt_size.mean())\n",
    "print('Min', prompt_size.min())\n",
    "print('Max', prompt_size.max())\n",
    "print('25th percentile', np.percentile(prompt_size, 25))\n",
    "print('50th percentile', np.percentile(prompt_size, 50))\n",
    "print('75th percentile', np.percentile(prompt_size, 75))\n",
    "\n",
    "\n",
    "\n",
    "print('completion tokens: ')\n",
    "print('Sum: ', newtokens.sum())\n",
    "print('Mean: ', newtokens.mean())\n",
    "print('Min', newtokens.min())\n",
    "print('Max', newtokens.max())\n",
    "print('25th percentile', np.percentile(newtokens, 25))\n",
    "print('50th percentile', np.percentile(newtokens, 50))\n",
    "print('75th percentile', np.percentile(newtokens, 75))\n",
    "\n",
    "\n",
    "print('Total size: ')\n",
    "print('Sum: ', total_size.sum())\n",
    "print('Mean: ', total_size.mean())\n",
    "print('Min', total_size.min())\n",
    "print('Max', total_size.max())\n",
    "print('25th percentile', np.percentile(total_size, 25))\n",
    "print('50th percentile', np.percentile(total_size, 50))\n",
    "print('75th percentile', np.percentile(total_size, 75))"
   ]
  }
 ],
 "metadata": {
  "kernelspec": {
   "display_name": "Python 3",
   "language": "python",
   "name": "python3"
  },
  "language_info": {
   "codemirror_mode": {
    "name": "ipython",
    "version": 3
   },
   "file_extension": ".py",
   "mimetype": "text/x-python",
   "name": "python",
   "nbconvert_exporter": "python",
   "pygments_lexer": "ipython3",
   "version": "3.9.4"
  }
 },
 "nbformat": 4,
 "nbformat_minor": 2
}
