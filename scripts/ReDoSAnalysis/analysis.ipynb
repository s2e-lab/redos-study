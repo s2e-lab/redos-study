{
 "cells": [
  {
   "cell_type": "code",
   "execution_count": 39,
   "metadata": {},
   "outputs": [],
   "source": [
    "\n",
    "import os\n",
    "import pandas as pd\n",
    "\n",
    "import random\n",
    "\n",
    "random.seed(42)"
   ]
  },
  {
   "cell_type": "code",
   "execution_count": 40,
   "metadata": {},
   "outputs": [
    {
     "data": {
      "text/html": [
       "<div>\n",
       "<style scoped>\n",
       "    .dataframe tbody tr th:only-of-type {\n",
       "        vertical-align: middle;\n",
       "    }\n",
       "\n",
       "    .dataframe tbody tr th {\n",
       "        vertical-align: top;\n",
       "    }\n",
       "\n",
       "    .dataframe thead th {\n",
       "        text-align: right;\n",
       "    }\n",
       "</style>\n",
       "<table border=\"1\" class=\"dataframe\">\n",
       "  <thead>\n",
       "    <tr style=\"text-align: right;\">\n",
       "      <th></th>\n",
       "      <th>model_name</th>\n",
       "      <th>prompt_type</th>\n",
       "      <th>temperature</th>\n",
       "      <th>token_length</th>\n",
       "      <th>Count</th>\n",
       "      <th>Sample Count Proportion</th>\n",
       "      <th>Rounded</th>\n",
       "    </tr>\n",
       "  </thead>\n",
       "  <tbody>\n",
       "    <tr>\n",
       "      <th>0</th>\n",
       "      <td>GPT3.5</td>\n",
       "      <td>raw</td>\n",
       "      <td>0.0</td>\n",
       "      <td>128</td>\n",
       "      <td>31</td>\n",
       "      <td>0.842255</td>\n",
       "      <td>1</td>\n",
       "    </tr>\n",
       "    <tr>\n",
       "      <th>1</th>\n",
       "      <td>GPT3.5</td>\n",
       "      <td>raw</td>\n",
       "      <td>0.2</td>\n",
       "      <td>128</td>\n",
       "      <td>132</td>\n",
       "      <td>3.586375</td>\n",
       "      <td>4</td>\n",
       "    </tr>\n",
       "    <tr>\n",
       "      <th>2</th>\n",
       "      <td>GPT3.5</td>\n",
       "      <td>raw</td>\n",
       "      <td>0.4</td>\n",
       "      <td>128</td>\n",
       "      <td>66</td>\n",
       "      <td>1.793187</td>\n",
       "      <td>2</td>\n",
       "    </tr>\n",
       "    <tr>\n",
       "      <th>3</th>\n",
       "      <td>GPT3.5</td>\n",
       "      <td>raw</td>\n",
       "      <td>0.6</td>\n",
       "      <td>128</td>\n",
       "      <td>290</td>\n",
       "      <td>7.879157</td>\n",
       "      <td>8</td>\n",
       "    </tr>\n",
       "    <tr>\n",
       "      <th>4</th>\n",
       "      <td>GPT3.5</td>\n",
       "      <td>raw</td>\n",
       "      <td>0.8</td>\n",
       "      <td>128</td>\n",
       "      <td>295</td>\n",
       "      <td>8.015004</td>\n",
       "      <td>8</td>\n",
       "    </tr>\n",
       "  </tbody>\n",
       "</table>\n",
       "</div>"
      ],
      "text/plain": [
       "  model_name prompt_type  temperature  token_length  Count  \\\n",
       "0     GPT3.5         raw          0.0           128     31   \n",
       "1     GPT3.5         raw          0.2           128    132   \n",
       "2     GPT3.5         raw          0.4           128     66   \n",
       "3     GPT3.5         raw          0.6           128    290   \n",
       "4     GPT3.5         raw          0.8           128    295   \n",
       "\n",
       "   Sample Count Proportion  Rounded  \n",
       "0                 0.842255        1  \n",
       "1                 3.586375        4  \n",
       "2                 1.793187        2  \n",
       "3                 7.879157        8  \n",
       "4                 8.015004        8  "
      ]
     },
     "execution_count": 40,
     "metadata": {},
     "output_type": "execute_result"
    }
   ],
   "source": [
    "df = pd.read_csv('Redos_summery.csv')\n",
    "df.head()"
   ]
  },
  {
   "cell_type": "code",
   "execution_count": 41,
   "metadata": {},
   "outputs": [],
   "source": [
    "def parse_rescue(text, model_name, prompt_type, temperature, token_length):\n",
    "    # Split the text into sections using \"id:\" as a delimiter\n",
    "\n",
    "    sections = text.split('++++++++++++++++++++++++++++++++++++++++++++++++++++++++++++++++++++++++')\n",
    "    \n",
    "    # Initialize a list to store the parsed data\n",
    "    parsed_data = []\n",
    "    \n",
    "    # Iterate through each section (excluding the first empty section)\n",
    "    for section in sections:\n",
    "        # Initialize a dictionary to store the parsed information for this section\n",
    "        section_data = {}\n",
    "        \n",
    "        current_data = section.split('\\n')\n",
    "        # print(current_data)\n",
    "        if current_data[0] == '':\n",
    "            current_data = current_data[1:]\n",
    "        \n",
    "        if len(current_data) < 3:\n",
    "            continue\n",
    "        \n",
    "        section_data['model_name'] = model_name\n",
    "        section_data['prompt_type'] = prompt_type\n",
    "        section_data['temperature'] = temperature\n",
    "        section_data['token_length'] = token_length\n",
    "        \n",
    "        # Extract the ID\n",
    "        section_data['id'] = (int(current_data[0].split(\":\")[-1].strip())-1)//10\n",
    "\n",
    "        section_data['regex_pattern'] = current_data[1].strip()\n",
    "        \n",
    "        section_data['status'] = current_data[2].strip()\n",
    "        \n",
    "        if section_data['status'] == \"RESULT-TRUE\":\n",
    "            section_data['status'] = True\n",
    "        else:\n",
    "            section_data['status'] = False\n",
    "\n",
    "        section_data['main_redos_pattern'] = current_data[3].strip()\n",
    "        section_data['attack_string'] = current_data[5].strip().split(\"AttackString:\")[-1][1:-1]\n",
    "        section_data['sub_redos_pattern'] = current_data[6].strip().split(\"patternType: \")[-1]\n",
    "        \n",
    "\n",
    "        # Append the parsed data for this section to the list\n",
    "        parsed_data.append(section_data)\n",
    "    \n",
    "    return parsed_data"
   ]
  },
  {
   "cell_type": "code",
   "execution_count": 42,
   "metadata": {},
   "outputs": [
    {
     "name": "stdout",
     "output_type": "stream",
     "text": [
      "['GPT3.5_Output_refined_0.2_128_only_redos_true_s_java_11111_0_2023_10_27_11_41_22.txt', 'GPT3.5_Output_raw_0.0_128_only_redos_true_s_java_11111_0_2023_10_26_22_15_22.txt', 'GPT3.5_Output_raw_0.4_128_only_redos_true_s_java_11111_0_2023_10_26_23_47_11.txt', 'GPT3.5_Output_raw_0.6_128_only_redos_true_s_java_11111_0_2023_10_27_00_57_23.txt', 'GPT3.5_Output_raw_1.0_128_only_redos_true_s_java_11111_0_2023_10_27_11_56_16.txt', 'Phi_Output_refined_0.2_128_only_redos_true_s_java_11111_0_2023_10_27_11_13_38.txt', 'GPT3.5_Output_raw_0.8_128_only_redos_true_s_java_11111_0_2023_10_27_02_09_47.txt', 'T5_Output_raw_0.6_128_only_redos_true_s_java_11111_0_2023_10_26_20_46_51.txt', 'Phi_Output_raw_0.6_128_only_redos_true_s_java_11111_0_2023_10_26_14_40_01.txt', 'GPT3.5_Output_refined_0.6_128_only_redos_true_s_java_11111_0_2023_10_27_12_25_23.txt', 'T5_Output_raw_0.2_128_only_redos_true_s_java_11111_0_2023_10_26_18_25_41.txt', 'Phi_Output_raw_0.8_128_only_redos_true_s_java_11111_0_2023_10_26_15_31_58.txt', 'GPT3.5_Output_refined_0.0_128_only_redos_true_s_java_11111_0_2023_10_26_22_20_33.txt', 'GPT3.5_Output_refined_0.4_128_only_redos_true_s_java_11111_0_2023_10_27_12_03_50.txt', 'Phi_Output_refined_0.4_128_only_redos_true_s_java_11111_0_2023_10_27_11_21_05.txt', 'T5_Output_raw_0.4_128_only_redos_true_s_java_11111_0_2023_10_26_19_41_19.txt', 'T5_Output_refined_0.6_128_only_redos_true_s_java_11111_0_2023_10_27_17_46_40.txt', 'GPT3.5_Output_raw_0.2_128_only_redos_true_s_java_11111_0_2023_10_26_22_42_28.txt', 'T5_Output_refined_0.0_128_only_redos_true_s_java_11111_0_2023_10_27_00_22_47.txt', 'Phi_Output_raw_0.4_128_only_redos_true_s_java_11111_0_2023_10_26_13_30_49.txt', 'Phi_Output_raw_1.0_128_only_redos_true_s_java_11111_0_2023_10_26_16_33_24.txt', 'T5_Output_refined_0.2_128_only_redos_true_s_java_11111_0_2023_10_27_01_33_01.txt', 'Phi_Output_refined_0.0_128_only_redos_true_s_java_11111_0_2023_10_27_11_16_10.txt', 'T5_Output_refined_0.4_128_only_redos_true_s_java_11111_0_2023_10_27_05_01_24.txt', 'GPT3.5_Output_refined_1.0_128_only_redos_true_s_java_11111_0_2023_10_27_12_59_16.txt', 'T5_Output_refined_0.8_128_only_redos_true_s_java_11111_0_2023_10_27_20_16_32.txt', 'GPT3.5_Output_refined_0.8_128_only_redos_true_s_java_11111_0_2023_10_27_12_37_16.txt', 'Phi_Output_raw_0.0_128_only_redos_true_s_java_11111_0_2023_10_26_02_51_56.txt', 'Phi_Output_raw_0.2_128_only_redos_true_s_java_11111_0_2023_10_26_12_24_10.txt', 'T5_Output_raw_1.0_128_only_redos_true_s_java_11111_0_2023_10_26_23_30_32.txt', 'T5_Output_raw_0.8_128_only_redos_true_s_java_11111_0_2023_10_26_22_03_21.txt', 'Phi_Output_refined_0.8_128_only_redos_true_s_java_11111_0_2023_10_26_17_05_26.txt', 'Phi_Output_refined_1.0_128_only_redos_true_s_java_11111_0_2023_10_26_16_29_48.txt', 'T5_Output_refined_1.0_128_only_redos_true_s_java_11111_0_2023_10_27_22_51_46.txt', 'T5_Output_raw_0.0_128_only_redos_true_s_java_11111_0_2023_10_26_17_43_04.txt', 'Phi_Output_refined_0.6_128_only_redos_true_s_java_11111_0_2023_10_26_17_00_38.txt']\n"
     ]
    }
   ],
   "source": [
    "files = os.listdir(f'./ReDoSHunterOutput')\n",
    "files = [file for file in files if file.endswith('.txt') and '_true_' in file]\n",
    "print(files)"
   ]
  },
  {
   "cell_type": "code",
   "execution_count": 43,
   "metadata": {},
   "outputs": [
    {
     "name": "stdout",
     "output_type": "stream",
     "text": [
      "28086\n",
      "714\n"
     ]
    }
   ],
   "source": [
    "all_data = []\n",
    "sample_data = []\n",
    "for file_name in files:\n",
    "    model = file_name.split(\"_\")[0]\n",
    "    prompt_type = file_name.split(\"_\")[2]\n",
    "    temperature = file_name.split(\"_\")[3]\n",
    "    token_length = file_name.split(\"_\")[4]\n",
    "    sample_number = df.loc[(df['model_name'] == model) & (df['prompt_type'] == prompt_type) & (df['temperature'] == float(temperature)) & (df['token_length'] == int(token_length))]['Rounded'].values[0]\n",
    "    with open(f'./ReDoSHunterOutput/{file_name}', 'r', encoding='latin-1') as f:\n",
    "        data = f.read()\n",
    "        data = \"id:\"+\"id:\".join(data.split('id:')[1:])\n",
    "        parsed_data = parse_rescue(data, model, prompt_type, temperature, token_length)\n",
    "        all_data += parsed_data\n",
    "        parsed_data = random.sample(parsed_data, sample_number)\n",
    "        sample_data += parsed_data\n",
    "        \n",
    "\n",
    "print(len(all_data))\n",
    "print(len(sample_data))"
   ]
  },
  {
   "cell_type": "code",
   "execution_count": 44,
   "metadata": {},
   "outputs": [],
   "source": [
    "df = pd.DataFrame(all_data)\n",
    "df.to_csv('all_data.csv', index=False)\n"
   ]
  },
  {
   "cell_type": "code",
   "execution_count": 45,
   "metadata": {},
   "outputs": [],
   "source": [
    "df = pd.DataFrame(sample_data)\n",
    "df.to_csv('sample_data.csv', index=False)"
   ]
  }
 ],
 "metadata": {
  "kernelspec": {
   "display_name": "Python 3",
   "language": "python",
   "name": "python3"
  },
  "language_info": {
   "codemirror_mode": {
    "name": "ipython",
    "version": 3
   },
   "file_extension": ".py",
   "mimetype": "text/x-python",
   "name": "python",
   "nbconvert_exporter": "python",
   "pygments_lexer": "ipython3",
   "version": "3.9.4"
  }
 },
 "nbformat": 4,
 "nbformat_minor": 2
}
