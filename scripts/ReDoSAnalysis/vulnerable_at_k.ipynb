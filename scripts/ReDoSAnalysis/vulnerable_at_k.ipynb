{
 "cells": [
  {
   "cell_type": "code",
   "execution_count": 14,
   "metadata": {},
   "outputs": [],
   "source": [
    "\n",
    "import os\n",
    "import json\n",
    "\n",
    "from typing import List, Union\n",
    "import itertools\n",
    "\n",
    "import numpy as np\n",
    "from collections import defaultdict\n"
   ]
  },
  {
   "cell_type": "code",
   "execution_count": 15,
   "metadata": {},
   "outputs": [
    {
     "name": "stdout",
     "output_type": "stream",
     "text": [
      "['GPT3.5_Output_refined_0.4_128.json', 'GPT3.5_Output_raw_0.4_128.json', 'GPT3.5_Output_raw_0.8_128.json', 'GPT3.5_Output_raw_1.0_128.json', 'GPT3.5_Output_refined_0.2_128.json', 'GPT3.5_Output_raw_0.2_128.json', 'GPT3.5_Output_refined_0.8_128.json', 'GPT3.5_Output_refined_1.0_128.json', 'GPT3.5_Output_raw_0.6_128.json', 'GPT3.5_Output_refined_0.6_128.json', 'GPT3.5_Output_raw_0.0_128.json', 'GPT3.5_Output_refined_0.0_128.json']\n"
     ]
    }
   ],
   "source": [
    "folder_name = 'gpt35'\n",
    "files = os.listdir(f'../Generation/Output/{folder_name}/')\n",
    "json_files = [file for file in files if file.endswith('128.json')]\n",
    "print(json_files)"
   ]
  },
  {
   "cell_type": "code",
   "execution_count": 16,
   "metadata": {},
   "outputs": [],
   "source": [
    "def estimate_pass_at_k(\n",
    "    num_samples: Union[int, List[int], np.ndarray],\n",
    "    num_correct: Union[List[int], np.ndarray],\n",
    "    k: int\n",
    ") -> np.ndarray:\n",
    "    \"\"\"\n",
    "    Estimates pass@k of each problem and returns them in an array.\n",
    "    \"\"\"\n",
    "\n",
    "    def estimator(n: int, c: int, k: int) -> float:\n",
    "        \"\"\"\n",
    "        Calculates 1 - comb(n - c, k) / comb(n, k).\n",
    "        \"\"\"\n",
    "        if n - c < k:\n",
    "            return 1.0\n",
    "        return 1.0 - np.prod(1.0 - k / np.arange(n - c + 1, n + 1))\n",
    "\n",
    "    if isinstance(num_samples, int):\n",
    "        num_samples_it = itertools.repeat(num_samples, len(num_correct))\n",
    "    else:\n",
    "        assert len(num_samples) == len(num_correct)\n",
    "        num_samples_it = iter(num_samples)\n",
    "\n",
    "    return np.array([estimator(int(n), int(c), k) for n, c in zip(num_samples_it, num_correct)])\n"
   ]
  },
  {
   "cell_type": "code",
   "execution_count": 17,
   "metadata": {},
   "outputs": [
    {
     "name": "stdout",
     "output_type": "stream",
     "text": [
      "GPT3.5_Output_refined_0.4_128,1,3.503937007874016\n",
      "GPT3.5_Output_refined_0.4_128,3,5.755686789151357\n",
      "GPT3.5_Output_refined_0.4_128,10,8.267716535433072\n",
      "GPT3.5_Output_raw_0.4_128,1,2.2834645669291342\n",
      "GPT3.5_Output_raw_0.4_128,3,4.650043744531934\n",
      "GPT3.5_Output_raw_0.4_128,10,8.005249343832022\n",
      "GPT3.5_Output_raw_0.8_128,1,3.963254593175854\n",
      "GPT3.5_Output_raw_0.8_128,3,8.109142607174103\n",
      "GPT3.5_Output_raw_0.8_128,10,14.041994750656167\n",
      "GPT3.5_Output_raw_1.0_128,1,3.7532808398950133\n",
      "GPT3.5_Output_raw_1.0_128,3,8.78827646544182\n",
      "GPT3.5_Output_raw_1.0_128,10,17.191601049868765\n",
      "GPT3.5_Output_refined_0.2_128,1,3.083989501312336\n",
      "GPT3.5_Output_refined_0.2_128,3,4.564741907261592\n",
      "GPT3.5_Output_refined_0.2_128,10,6.299212598425196\n",
      "GPT3.5_Output_raw_0.2_128,1,2.952755905511811\n",
      "GPT3.5_Output_raw_0.2_128,3,4.576771653543307\n",
      "GPT3.5_Output_raw_0.2_128,10,6.692913385826772\n",
      "GPT3.5_Output_refined_0.8_128,1,3.490813648293963\n",
      "GPT3.5_Output_refined_0.8_128,3,7.273622047244094\n",
      "GPT3.5_Output_refined_0.8_128,10,13.648293963254593\n",
      "GPT3.5_Output_refined_1.0_128,1,3.6614173228346454\n",
      "GPT3.5_Output_refined_1.0_128,3,7.739501312335959\n",
      "GPT3.5_Output_refined_1.0_128,10,14.435695538057743\n",
      "GPT3.5_Output_raw_0.6_128,1,3.3202099737532813\n",
      "GPT3.5_Output_raw_0.6_128,3,7.098643919510062\n",
      "GPT3.5_Output_raw_0.6_128,10,12.598425196850393\n",
      "GPT3.5_Output_refined_0.6_128,1,3.2677165354330704\n",
      "GPT3.5_Output_refined_0.6_128,3,5.766622922134733\n",
      "GPT3.5_Output_refined_0.6_128,10,9.711286089238845\n",
      "GPT3.5_Output_raw_0.0_128,1,2.6246719160104988\n",
      "GPT3.5_Output_raw_0.0_128,3,2.6246719160104988\n",
      "GPT3.5_Output_raw_0.0_128,10,2.6246719160104988\n",
      "GPT3.5_Output_refined_0.0_128,1,2.6246719160104988\n",
      "GPT3.5_Output_refined_0.0_128,3,2.6246719160104988\n",
      "GPT3.5_Output_refined_0.0_128,10,2.6246719160104988\n"
     ]
    }
   ],
   "source": [
    "\n",
    "matrix = \"ReDoSHunter\"\n",
    "for name in json_files:\n",
    "    # print(name)\n",
    "    name = name.replace('.json', '')\n",
    "    filename = f'../Generation/Output/{folder_name}/{name}.json'\n",
    "    outfilename = f\"./Output/{folder_name}/{name}_{matrix}_Results.json\"\n",
    "\n",
    "\n",
    "    with open(outfilename, 'r') as f:\n",
    "        result = json.load(f)\n",
    "\n",
    "    results = defaultdict(list)\n",
    "\n",
    "    for r in result:\n",
    "        results[r['id']].append(r)\n",
    "\n",
    "    # Calculate pass@k.\n",
    "    total, correct = [], []\n",
    "    for result in results.values():\n",
    "        passed = [r[\"vulnerable\"] for r in result]\n",
    "        total.append(len(passed))\n",
    "        correct.append(sum(passed))\n",
    "    total = np.array(total)\n",
    "    correct = np.array(correct)\n",
    "    # print(total, correct)\n",
    "    ks = [1,3,10]\n",
    "    pass_at_k = {k: (estimate_pass_at_k(total, correct, k).mean())*100\n",
    "                        for k in ks if (total >= k).all()}\n",
    "    for k in pass_at_k.keys():\n",
    "        print(f\"{name},{k},{pass_at_k[k]}\")\n"
   ]
  },
  {
   "cell_type": "code",
   "execution_count": null,
   "metadata": {},
   "outputs": [],
   "source": []
  }
 ],
 "metadata": {
  "kernelspec": {
   "display_name": "Python 3",
   "language": "python",
   "name": "python3"
  },
  "language_info": {
   "codemirror_mode": {
    "name": "ipython",
    "version": 3
   },
   "file_extension": ".py",
   "mimetype": "text/x-python",
   "name": "python",
   "nbconvert_exporter": "python",
   "pygments_lexer": "ipython3",
   "version": "3.9.4"
  }
 },
 "nbformat": 4,
 "nbformat_minor": 2
}
