{
 "cells": [
  {
   "cell_type": "code",
   "execution_count": null,
   "metadata": {},
   "outputs": [],
   "source": [
    "import pandas as pd"
   ]
  },
  {
   "cell_type": "code",
   "execution_count": null,
   "metadata": {},
   "outputs": [],
   "source": [
    "df = pd.read_csv('all_data.csv')\n",
    "\n",
    "# Get only for these columns model_name, prompt_type, temperature and main_redos_pattern\n",
    "df = df[['model_name', 'prompt_type', 'temperature', 'sub_redos_pattern']]\n",
    "df.head()"
   ]
  },
  {
   "cell_type": "code",
   "execution_count": null,
   "metadata": {},
   "outputs": [],
   "source": [
    "class_data = []\n",
    "groups =  df.groupby(['model_name', 'prompt_type', 'temperature'])\n",
    "for name, group in groups:\n",
    "    sub_group = group.groupby([ 'sub_redos_pattern'])  \n",
    "    for sub_name, sub_group in sub_group:\n",
    "        class_data.append([name[0], name[1], name[2], sub_name[0], sub_group.count()[0]])\n"
   ]
  },
  {
   "cell_type": "code",
   "execution_count": null,
   "metadata": {},
   "outputs": [],
   "source": [
    "class_df = pd.DataFrame(class_data, columns=['model_name', 'prompt_type', 'temperature', 'sub_redos_pattern', 'count'])\n",
    "class_df.to_csv('class_data.csv', index=False)"
   ]
  },
  {
   "cell_type": "code",
   "execution_count": null,
   "metadata": {},
   "outputs": [],
   "source": [
    "\n",
    "df = pd.read_csv('RQ2_Regex_class.csv')\n",
    "df = df[['model_name', 'prompt_type', 'main_redos_pattern','temperature', 'Groups']]\n",
    "df.head()"
   ]
  },
  {
   "cell_type": "code",
   "execution_count": null,
   "metadata": {},
   "outputs": [],
   "source": [
    "from collections import defaultdict"
   ]
  },
  {
   "cell_type": "code",
   "execution_count": null,
   "metadata": {},
   "outputs": [],
   "source": [
    "counter1 ={\n",
    "    'raw': defaultdict(int),\n",
    "    'refined': defaultdict(int)\n",
    "}\n",
    "counter2 ={\n",
    "    'POLYNOMIAL': defaultdict(int),\n",
    "    'EXPONENT': defaultdict(int)\n",
    "}\n",
    "\n",
    "counter3 ={\n",
    "    'GPT3.5': defaultdict(int),\n",
    "    'Phi': defaultdict(int),\n",
    "    'T5': defaultdict(int)\n",
    "}\n"
   ]
  },
  {
   "cell_type": "code",
   "execution_count": null,
   "metadata": {},
   "outputs": [],
   "source": [
    "for index, row in df.iterrows():\n",
    "    groups = list(set(row['Groups'].split('#')))\n",
    "    for group in groups:\n",
    "\n",
    "        counter1[row['prompt_type']][group] += 1\n",
    "        counter2[row['main_redos_pattern']][group] += 1\n",
    "        counter3[row['model_name']][group] += 1"
   ]
  },
  {
   "cell_type": "code",
   "execution_count": null,
   "metadata": {},
   "outputs": [],
   "source": [
    "regex_class_data = []  \n",
    "for prompt_type in ['raw', 'refined']:\n",
    "    for group in counter1[prompt_type]:\n",
    "        regex_class_data.append([prompt_type, group, counter1[prompt_type][group]])"
   ]
  },
  {
   "cell_type": "code",
   "execution_count": null,
   "metadata": {},
   "outputs": [],
   "source": [
    "df = pd.DataFrame(regex_class_data, columns=['prompt_type', 'group', 'count'])\n",
    "df.to_csv('regex_class_data.csv', index=False)"
   ]
  },
  {
   "cell_type": "code",
   "execution_count": null,
   "metadata": {},
   "outputs": [],
   "source": [
    "regex_class_data = []  \n",
    "for pattern in ['POLYNOMIAL', 'EXPONENT']:\n",
    "    for group in counter2[pattern]:\n",
    "        regex_class_data.append([pattern, group, counter2[pattern][group]])\n",
    "\n",
    "        "
   ]
  },
  {
   "cell_type": "code",
   "execution_count": null,
   "metadata": {},
   "outputs": [],
   "source": [
    "df = pd.DataFrame(regex_class_data, columns=['pattern', 'group', 'count'])\n",
    "df.to_csv('regex_class_data2.csv', index=False)"
   ]
  },
  {
   "cell_type": "code",
   "execution_count": null,
   "metadata": {},
   "outputs": [],
   "source": [
    "regex_class_data = []\n",
    "for model_name in ['GPT3.5', 'Phi', 'T5']:\n",
    "    for group in counter3[model_name]:\n",
    "        regex_class_data.append([model_name, group, counter3[model_name][group]])"
   ]
  },
  {
   "cell_type": "code",
   "execution_count": null,
   "metadata": {},
   "outputs": [],
   "source": [
    "df = pd.DataFrame(regex_class_data, columns=['model_name', 'group', 'count'])\n",
    "df.to_csv('regex_class_data3.csv', index=False)"
   ]
  }
 ],
 "metadata": {
  "kernelspec": {
   "display_name": "Python 3",
   "language": "python",
   "name": "python3"
  },
  "language_info": {
   "codemirror_mode": {
    "name": "ipython",
    "version": 3
   },
   "file_extension": ".py",
   "mimetype": "text/x-python",
   "name": "python",
   "nbconvert_exporter": "python",
   "pygments_lexer": "ipython3",
   "version": "3.9.4"
  }
 },
 "nbformat": 4,
 "nbformat_minor": 2
}
