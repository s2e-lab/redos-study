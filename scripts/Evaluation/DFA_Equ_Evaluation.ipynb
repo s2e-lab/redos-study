{
 "cells": [
  {
   "cell_type": "code",
   "execution_count": 32,
   "metadata": {},
   "outputs": [],
   "source": [
    "import subprocess\n",
    "import json\n",
    "import os\n",
    "from typing import List, Union\n",
    "import itertools\n",
    "\n",
    "import numpy as np\n",
    "from collections import defaultdict\n"
   ]
  },
  {
   "cell_type": "code",
   "execution_count": 33,
   "metadata": {},
   "outputs": [],
   "source": [
    "def regex_equiv(gold, predicted):\n",
    "    if gold == predicted:\n",
    "        return True\n",
    "    try:\n",
    "        out = subprocess.check_output(['java', '-jar', 'regex_dfa_equals.jar', '{}'.format(gold), '{}'.format(predicted)])\n",
    "#          print(\"out: {}\".format(out))\n",
    "        #print(out.decode('utf-8'))\n",
    "        if '\\n1' in out.decode('utf-8'):\n",
    "            return True\n",
    "        else:\n",
    "            return False\n",
    "    except Exception as e:\n",
    "        return False\n"
   ]
  },
  {
   "cell_type": "code",
   "execution_count": 34,
   "metadata": {},
   "outputs": [
    {
     "name": "stdout",
     "output_type": "stream",
     "text": [
      "['T5_Output_refined_0.4_128.json', 'T5_Output_raw_0.4_128.json', 'T5_Output_raw_0.2_128.json', 'T5_Output_raw_1.0_128.json', 'T5_Output_raw_0.8_128.json', 'T5_Output_refined_0.2_128.json', 'T5_Output_refined_1.0_128.json', 'T5_Output_refined_0.8_128.json', 'T5_Output_raw_0.6_128.json', 'T5_Output_refined_0.6_128.json', 'T5_Output_refined_0.0_128.json', 'T5_Output_raw_0.0_128.json']\n"
     ]
    }
   ],
   "source": [
    "folder_name = 't5'\n",
    "files = os.listdir(f'../Generation/Output/{folder_name}/')\n",
    "json_files = [file for file in files if file.endswith('128.json')]\n",
    "print(json_files)"
   ]
  },
  {
   "cell_type": "code",
   "execution_count": 35,
   "metadata": {},
   "outputs": [],
   "source": [
    "\n",
    "# for name in json_files:\n",
    "#     print(\"Starting: \", name)\n",
    "#     name = name.replace('.json', '')\n",
    "#     filename = f'../Generation/Output/{folder_name}/{name}.json'\n",
    "#     outfilename = f\"./Output/{folder_name}/{name}_DFA_Result.json\"\n",
    "\n",
    "\n",
    "#     with open(filename, 'r') as f:\n",
    "#         data = json.load(f)\n",
    "#     print(len(data))\n",
    "\n",
    "#     dfa_result = []\n",
    "#     for item in data:\n",
    "#         print(\"Starting item: \", item['id'])\n",
    "#         id = item['id']\n",
    "#         gold_expression = item['expression']\n",
    "#         # print (\"Expression: \", gold_expression)\n",
    "#         # for i in range(len(item['output'])):\n",
    "#         #     predicted_expression = item['output'][i]['text']\n",
    "#         for i in range(len(item['output']['choices'])):\n",
    "#             predicted_expression = item['output']['choices'][i]['message']['content']\n",
    "#             item['completion'] = predicted_expression\n",
    "#             passed = regex_equiv(gold_expression, predicted_expression)\n",
    "            \n",
    "#             dfa_result.append({\n",
    "#                 'id': id,\n",
    "#                 'completion': predicted_expression,\n",
    "#                 'passed': passed\n",
    "#             })  \n",
    "#         print(\"Ending item: \", item['id'])\n",
    "\n",
    "#     with open(outfilename, 'w') as f:\n",
    "#         json.dump(dfa_result, f, indent=4)"
   ]
  },
  {
   "cell_type": "code",
   "execution_count": 36,
   "metadata": {},
   "outputs": [],
   "source": [
    "# Write a code for pass@k\n",
    "def pass_at_k(name, results, ks):\n",
    "    total = len(results)\n",
    "    for k in ks:\n",
    "        correct = 0\n",
    "        for result in results.values():\n",
    "            passed = [r[\"passed\"] for r in result[:k]]\n",
    "            correct += (1 if sum(passed)!=0 else 0)\n",
    "        print(f\"{name},{k},{(correct/total)*100}\")\n",
    "\n",
    "        \n"
   ]
  },
  {
   "cell_type": "code",
   "execution_count": 37,
   "metadata": {},
   "outputs": [
    {
     "name": "stdout",
     "output_type": "stream",
     "text": [
      "T5_Output_refined_0.4_128,1,0.0\n",
      "T5_Output_refined_0.4_128,3,0.0\n",
      "T5_Output_refined_0.4_128,10,0.0\n",
      "T5_Output_raw_0.4_128,1,0.13123359580052493\n",
      "T5_Output_raw_0.4_128,3,0.13123359580052493\n",
      "T5_Output_raw_0.4_128,10,0.39370078740157477\n",
      "T5_Output_raw_0.2_128,1,0.13123359580052493\n",
      "T5_Output_raw_0.2_128,3,0.26246719160104987\n",
      "T5_Output_raw_0.2_128,10,0.26246719160104987\n",
      "T5_Output_raw_1.0_128,1,0.39370078740157477\n",
      "T5_Output_raw_1.0_128,3,0.6561679790026247\n",
      "T5_Output_raw_1.0_128,10,1.3123359580052494\n",
      "T5_Output_raw_0.8_128,1,0.13123359580052493\n",
      "T5_Output_raw_0.8_128,3,0.5249343832020997\n",
      "T5_Output_raw_0.8_128,10,0.7874015748031495\n",
      "T5_Output_refined_0.2_128,1,0.0\n",
      "T5_Output_refined_0.2_128,3,0.0\n",
      "T5_Output_refined_0.2_128,10,0.0\n",
      "T5_Output_refined_1.0_128,1,0.0\n",
      "T5_Output_refined_1.0_128,3,0.0\n",
      "T5_Output_refined_1.0_128,10,0.0\n",
      "T5_Output_refined_0.8_128,1,0.0\n",
      "T5_Output_refined_0.8_128,3,0.0\n",
      "T5_Output_refined_0.8_128,10,0.0\n",
      "T5_Output_raw_0.6_128,1,0.26246719160104987\n",
      "T5_Output_raw_0.6_128,3,0.5249343832020997\n",
      "T5_Output_raw_0.6_128,10,0.6561679790026247\n",
      "T5_Output_refined_0.6_128,1,0.13123359580052493\n",
      "T5_Output_refined_0.6_128,3,0.13123359580052493\n",
      "T5_Output_refined_0.6_128,10,0.13123359580052493\n",
      "T5_Output_refined_0.0_128,1,0.0\n",
      "T5_Output_refined_0.0_128,3,0.0\n",
      "T5_Output_refined_0.0_128,10,0.0\n",
      "T5_Output_raw_0.0_128,1,0.13123359580052493\n",
      "T5_Output_raw_0.0_128,3,0.13123359580052493\n",
      "T5_Output_raw_0.0_128,10,0.13123359580052493\n"
     ]
    }
   ],
   "source": [
    "# names = [\"Text_DaVinci_Raw_Output\",\"Text_DaVinci_Refined_Output\",\"GPT3.5_Raw_Output\",\"GPT3.5_Refined_Output\", \"T5_Raw_Output\",\"T5_Refined_Output\"]\n",
    "matrix = \"DFA\"\n",
    "for name in json_files:\n",
    "    name = name.replace('.json', '')\n",
    "    filename = f'../Generation/Output/{folder_name}/{name}.json'\n",
    "    outfilename = f\"./Output/{folder_name}/{name}_DFA_Result.json\"\n",
    "\n",
    "\n",
    "    with open(outfilename, 'r') as f:\n",
    "        result = json.load(f)\n",
    "\n",
    "    results = defaultdict(list)\n",
    "\n",
    "\n",
    "    for r in result:\n",
    "        results[r['id']].append(r)\n",
    "\n",
    "    pass_at_k(name, results, [1,3,10])\n",
    "\n",
    "    # # Calculate pass@k.\n",
    "    # total, correct = [], []\n",
    "    # for result in results.values():\n",
    "    #     passed = [r[\"passed\"] for r in result]\n",
    "    #     total.append(len(passed))\n",
    "    #     correct.append(sum(passed))\n",
    "    # total = np.array(total)\n",
    "    # correct = np.array(correct)\n",
    "    # # print(total, correct)\n",
    "    # ks = [1,3,10]\n",
    "    # pass_at_k_result = {f\"pass@{k}\": (pass_at_k(total, correct, k).mean())*100\n",
    "    #                     for k in ks if (total >= k).all()}\n",
    "    # print(pass_at_k_result)\n"
   ]
  },
  {
   "cell_type": "code",
   "execution_count": null,
   "metadata": {},
   "outputs": [],
   "source": []
  }
 ],
 "metadata": {
  "kernelspec": {
   "display_name": "Python 3",
   "language": "python",
   "name": "python3"
  },
  "language_info": {
   "codemirror_mode": {
    "name": "ipython",
    "version": 3
   },
   "file_extension": ".py",
   "mimetype": "text/x-python",
   "name": "python",
   "nbconvert_exporter": "python",
   "pygments_lexer": "ipython3",
   "version": "3.9.4"
  },
  "orig_nbformat": 4
 },
 "nbformat": 4,
 "nbformat_minor": 2
}
