{
 "cells": [
  {
   "cell_type": "code",
   "execution_count": 16,
   "metadata": {},
   "outputs": [],
   "source": [
    "import json\n",
    "from typing import List, Union\n",
    "import itertools\n",
    "\n",
    "import numpy as np\n",
    "from collections import defaultdict\n",
    "import os\n"
   ]
  },
  {
   "cell_type": "code",
   "execution_count": 17,
   "metadata": {},
   "outputs": [],
   "source": [
    "def estimate_pass_at_k(\n",
    "    num_samples: Union[int, List[int], np.ndarray],\n",
    "    num_correct: Union[List[int], np.ndarray],\n",
    "    k: int\n",
    ") -> np.ndarray:\n",
    "    \"\"\"\n",
    "    Estimates pass@k of each problem and returns them in an array.\n",
    "    \"\"\"\n",
    "\n",
    "    def estimator(n: int, c: int, k: int) -> float:\n",
    "        \"\"\"\n",
    "        Calculates 1 - comb(n - c, k) / comb(n, k).\n",
    "        \"\"\"\n",
    "        if n - c < k:\n",
    "            return 1.0\n",
    "        return 1.0 - np.prod(1.0 - k / np.arange(n - c + 1, n + 1))\n",
    "\n",
    "    if isinstance(num_samples, int):\n",
    "        num_samples_it = itertools.repeat(num_samples, len(num_correct))\n",
    "    else:\n",
    "        assert len(num_samples) == len(num_correct)\n",
    "        num_samples_it = iter(num_samples)\n",
    "\n",
    "    return np.array([estimator(int(n), int(c), k) for n, c in zip(num_samples_it, num_correct)])\n"
   ]
  },
  {
   "cell_type": "code",
   "execution_count": 18,
   "metadata": {},
   "outputs": [
    {
     "name": "stdout",
     "output_type": "stream",
     "text": [
      "['GPT3.5_Output_refined_0.4_128.json', 'GPT3.5_Output_raw_0.4_128.json', 'GPT3.5_Output_raw_0.8_128.json', 'GPT3.5_Output_raw_1.0_128.json', 'GPT3.5_Output_refined_0.2_128.json', 'GPT3.5_Output_raw_0.2_128.json', 'GPT3.5_Output_refined_0.8_128.json', 'GPT3.5_Output_refined_1.0_128.json', 'GPT3.5_Output_raw_0.6_128.json', 'GPT3.5_Output_refined_0.6_128.json', 'GPT3.5_Output_raw_0.0_128.json', 'GPT3.5_Output_refined_0.0_128.json']\n"
     ]
    }
   ],
   "source": [
    "folder_name = 'gpt35'\n",
    "files = os.listdir(f'../Generation/Output/{folder_name}/')\n",
    "json_files = [file for file in files if file.endswith('128.json')]\n",
    "print(json_files)"
   ]
  },
  {
   "cell_type": "code",
   "execution_count": 19,
   "metadata": {},
   "outputs": [
    {
     "name": "stdout",
     "output_type": "stream",
     "text": [
      "GPT3.5_Output_refined_0.4_128,1,35.86614173228347\n",
      "GPT3.5_Output_refined_0.4_128,3,42.11942257217848\n",
      "GPT3.5_Output_refined_0.4_128,10,47.24409448818898\n",
      "GPT3.5_Output_raw_0.4_128,1,24.17322834645669\n",
      "GPT3.5_Output_raw_0.4_128,3,30.574146981627297\n",
      "GPT3.5_Output_raw_0.4_128,10,35.69553805774278\n",
      "GPT3.5_Output_raw_0.8_128,1,33.56955380577428\n",
      "GPT3.5_Output_raw_0.8_128,3,44.654418197725285\n",
      "GPT3.5_Output_raw_0.8_128,10,52.6246719160105\n",
      "GPT3.5_Output_raw_1.0_128,1,22.257217847769027\n",
      "GPT3.5_Output_raw_1.0_128,3,33.47659667541558\n",
      "GPT3.5_Output_raw_1.0_128,10,44.2257217847769\n",
      "GPT3.5_Output_refined_0.2_128,1,35.94488188976378\n",
      "GPT3.5_Output_refined_0.2_128,3,39.064960629921266\n",
      "GPT3.5_Output_refined_0.2_128,10,41.46981627296588\n",
      "GPT3.5_Output_raw_0.2_128,1,24.84251968503937\n",
      "GPT3.5_Output_raw_0.2_128,3,28.638451443569558\n",
      "GPT3.5_Output_raw_0.2_128,10,32.020997375328086\n",
      "GPT3.5_Output_refined_0.8_128,1,33.727034120734906\n",
      "GPT3.5_Output_refined_0.8_128,3,44.534120734908136\n",
      "GPT3.5_Output_refined_0.8_128,10,53.14960629921261\n",
      "GPT3.5_Output_refined_1.0_128,1,32.63779527559055\n",
      "GPT3.5_Output_refined_1.0_128,3,44.75174978127734\n",
      "GPT3.5_Output_refined_1.0_128,10,53.674540682414694\n",
      "GPT3.5_Output_raw_0.6_128,1,24.081364829396325\n",
      "GPT3.5_Output_raw_0.6_128,3,32.515310586176724\n",
      "GPT3.5_Output_raw_0.6_128,10,39.76377952755906\n",
      "GPT3.5_Output_refined_0.6_128,1,34.92125984251969\n",
      "GPT3.5_Output_refined_0.6_128,3,44.054024496937885\n",
      "GPT3.5_Output_refined_0.6_128,10,51.181102362204726\n",
      "GPT3.5_Output_raw_0.0_128,1,24.409448818897637\n",
      "GPT3.5_Output_raw_0.0_128,3,24.409448818897637\n",
      "GPT3.5_Output_raw_0.0_128,10,24.409448818897637\n",
      "GPT3.5_Output_refined_0.0_128,1,35.826771653543304\n",
      "GPT3.5_Output_refined_0.0_128,3,35.826771653543304\n",
      "GPT3.5_Output_refined_0.0_128,10,35.826771653543304\n"
     ]
    }
   ],
   "source": [
    "\n",
    "matrix = \"Compiled\"\n",
    "for name in json_files:\n",
    "    # print(name)\n",
    "    name = name.replace('.json', '')\n",
    "    filename = f'../Generation/Output/{folder_name}/{name}.json'\n",
    "    outfilename = f\"./Output/{folder_name}/{name}_{matrix}_Result.json\"\n",
    "\n",
    "\n",
    "    with open(outfilename, 'r') as f:\n",
    "        result = json.load(f)\n",
    "\n",
    "    results = defaultdict(list)\n",
    "\n",
    "    for r in result:\n",
    "        results[r['id']].append(r)\n",
    "\n",
    "    # Calculate pass@k.\n",
    "    total, correct = [], []\n",
    "    for result in results.values():\n",
    "        passed = [r[\"passed\"] for r in result]\n",
    "        total.append(len(passed))\n",
    "        correct.append(sum(passed))\n",
    "    total = np.array(total)\n",
    "    correct = np.array(correct)\n",
    "    # print(total, correct)\n",
    "    ks = [1,3,10]\n",
    "    pass_at_k = {k: (estimate_pass_at_k(total, correct, k).mean())*100\n",
    "                        for k in ks if (total >= k).all()}\n",
    "    for k in pass_at_k.keys():\n",
    "        print(f\"{name},{k},{pass_at_k[k]}\")\n"
   ]
  },
  {
   "cell_type": "code",
   "execution_count": null,
   "metadata": {},
   "outputs": [],
   "source": []
  }
 ],
 "metadata": {
  "kernelspec": {
   "display_name": "Python 3",
   "language": "python",
   "name": "python3"
  },
  "language_info": {
   "codemirror_mode": {
    "name": "ipython",
    "version": 3
   },
   "file_extension": ".py",
   "mimetype": "text/x-python",
   "name": "python",
   "nbconvert_exporter": "python",
   "pygments_lexer": "ipython3",
   "version": "3.9.4"
  },
  "orig_nbformat": 4
 },
 "nbformat": 4,
 "nbformat_minor": 2
}
