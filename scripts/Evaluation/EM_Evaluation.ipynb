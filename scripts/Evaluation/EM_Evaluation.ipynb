{
 "cells": [
  {
   "cell_type": "code",
   "execution_count": 19,
   "metadata": {},
   "outputs": [],
   "source": [
    "import json\n",
    "import os"
   ]
  },
  {
   "cell_type": "code",
   "execution_count": 20,
   "metadata": {},
   "outputs": [
    {
     "name": "stdout",
     "output_type": "stream",
     "text": [
      "['GPT3.5_Output_refined_0.4_128.json', 'GPT3.5_Output_raw_0.4_128.json', 'GPT3.5_Output_raw_0.8_128.json', 'GPT3.5_Output_raw_1.0_128.json', 'GPT3.5_Output_refined_0.2_128.json', 'GPT3.5_Output_raw_0.2_128.json', 'GPT3.5_Output_refined_0.8_128.json', 'GPT3.5_Output_refined_1.0_128.json', 'GPT3.5_Output_raw_0.6_128.json', 'GPT3.5_Output_refined_0.6_128.json', 'GPT3.5_Output_raw_0.0_128.json', 'GPT3.5_Output_refined_0.0_128.json']\n"
     ]
    }
   ],
   "source": [
    "folder_name = 'gpt35'\n",
    "files = os.listdir(f'../Generation/Output/{folder_name}/')\n",
    "json_files = [file for file in files if file.endswith('128.json')]\n",
    "print(json_files)"
   ]
  },
  {
   "cell_type": "code",
   "execution_count": 21,
   "metadata": {},
   "outputs": [
    {
     "name": "stdout",
     "output_type": "stream",
     "text": [
      "GPT3.5_Output_refined_0.4_128,38.4514435695538\n",
      "GPT3.5_Output_raw_0.4_128,22.440944881889763\n",
      "GPT3.5_Output_raw_0.8_128,34.120734908136484\n",
      "GPT3.5_Output_raw_1.0_128,18.503937007874015\n",
      "GPT3.5_Output_refined_0.2_128,36.61417322834646\n",
      "GPT3.5_Output_raw_0.2_128,22.965879265091864\n",
      "GPT3.5_Output_refined_0.8_128,33.46456692913386\n",
      "GPT3.5_Output_refined_1.0_128,31.36482939632546\n",
      "GPT3.5_Output_raw_0.6_128,21.128608923884514\n",
      "GPT3.5_Output_refined_0.6_128,36.876640419947506\n",
      "GPT3.5_Output_raw_0.0_128,24.93438320209974\n",
      "GPT3.5_Output_refined_0.0_128,38.05774278215223\n"
     ]
    }
   ],
   "source": [
    "# names = [\"Phi_Raw_Output\",\"Phi_Refined_Output\",\"Text_DaVinci_Raw_Output\",\"Text_DaVinci_Refined_Output\",\"GPT3.5_Raw_Output\",\"GPT3.5_Refined_Output\", \"T5_Raw_Output\",\"T5_Refined_Output\"]\n",
    "# names = [\"GPT3.5_Raw_Output\",\"GPT3.5_Refined_Output\"]\n",
    "for name in json_files:\n",
    "    name = name.replace('.json', '')\n",
    "    filename = f'../Generation/Output/{folder_name}/{name}.json'\n",
    "    # print(name)\n",
    "    with open(filename) as f:\n",
    "        data = json.load(f)\n",
    "    count_matches =0\n",
    "    for item in data:\n",
    "        ground_truth = item[\"expression\"]\n",
    "        for choice in item[\"output\"]['choices']:\n",
    "            predicted = choice['message']['content']\n",
    "            if predicted == ground_truth:\n",
    "                count_matches +=1\n",
    "\n",
    "    print(f\"{name},{(count_matches/len(data))*100}\")"
   ]
  },
  {
   "cell_type": "code",
   "execution_count": null,
   "metadata": {},
   "outputs": [],
   "source": []
  }
 ],
 "metadata": {
  "kernelspec": {
   "display_name": "Python 3",
   "language": "python",
   "name": "python3"
  },
  "language_info": {
   "codemirror_mode": {
    "name": "ipython",
    "version": 3
   },
   "file_extension": ".py",
   "mimetype": "text/x-python",
   "name": "python",
   "nbconvert_exporter": "python",
   "pygments_lexer": "ipython3",
   "version": "3.9.4"
  },
  "orig_nbformat": 4
 },
 "nbformat": 4,
 "nbformat_minor": 2
}
