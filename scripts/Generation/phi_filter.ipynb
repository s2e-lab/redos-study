{
 "cells": [
  {
   "cell_type": "code",
   "execution_count": 11,
   "metadata": {},
   "outputs": [],
   "source": [
    "import json\n",
    "import os"
   ]
  },
  {
   "cell_type": "code",
   "execution_count": 12,
   "metadata": {},
   "outputs": [],
   "source": [
    "def make_clear(text):\n",
    "    text = text.split('<|endoftext|>')[0]\n",
    "    text = text.split('\\n\\n')[0].replace('\\n','').strip()\n",
    "    return text"
   ]
  },
  {
   "cell_type": "code",
   "execution_count": 13,
   "metadata": {},
   "outputs": [
    {
     "name": "stdout",
     "output_type": "stream",
     "text": [
      "['Phi_Output_refined_0.8_128_original.json', 'Phi_Output_raw_0.6_128_original.json', 'Phi_Output_raw_0.2_128_original.json', 'Phi_Output_raw_0.4_128_original.json', 'Phi_Output_raw_1.0_128_original.json', 'Phi_Output_raw_0.0_128_original.json', 'Phi_Output_refined_0.2_128_original.json', 'Phi_Output_refined_0.6_128_original.json', 'Phi_Output_raw_0.8_128_original.json', 'Phi_Output_refined_1.0_128_original.json', 'Phi_Output_refined_0.0_128_original.json', 'Phi_Output_refined_0.4_128_original.json']\n"
     ]
    }
   ],
   "source": [
    "# Get list of all files in the directory\n",
    "files = os.listdir('./Output/phi15/')\n",
    "json_files = [file for file in files if file.endswith('.json')]\n",
    "print(json_files)"
   ]
  },
  {
   "cell_type": "code",
   "execution_count": 14,
   "metadata": {},
   "outputs": [],
   "source": [
    "for file in json_files:\n",
    "\n",
    "    with open(f'./Output/phi15/{file}') as f:\n",
    "        data = json.load(f)\n",
    "    \n",
    "    new_data = []\n",
    "    for item in data:\n",
    "\n",
    "        for i in range(len(item['output'])):\n",
    "            text = item['output'][i]['text']\n",
    "            item['output'][i]['text']  = make_clear(str(text))\n",
    "        new_data.append(item)\n",
    "\n",
    "    file = file.replace('_original.json','.json')\n",
    "    with open(f'./Output/phi15/{file}', 'w') as f:\n",
    "        json.dump(new_data, f, indent=4)\n"
   ]
  },
  {
   "cell_type": "code",
   "execution_count": null,
   "metadata": {},
   "outputs": [],
   "source": []
  }
 ],
 "metadata": {
  "kernelspec": {
   "display_name": "Python 3",
   "language": "python",
   "name": "python3"
  },
  "language_info": {
   "codemirror_mode": {
    "name": "ipython",
    "version": 3
   },
   "file_extension": ".py",
   "mimetype": "text/x-python",
   "name": "python",
   "nbconvert_exporter": "python",
   "pygments_lexer": "ipython3",
   "version": "3.9.4"
  }
 },
 "nbformat": 4,
 "nbformat_minor": 2
}
