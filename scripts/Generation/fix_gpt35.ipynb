{
 "cells": [
  {
   "cell_type": "code",
   "execution_count": 16,
   "metadata": {},
   "outputs": [],
   "source": [
    "import json\n",
    "import openai\n",
    "from tqdm import tqdm\n",
    "\n",
    "import time\n",
    "import os"
   ]
  },
  {
   "cell_type": "code",
   "execution_count": 17,
   "metadata": {},
   "outputs": [],
   "source": [
    "with open(\"./config.json\") as f:\n",
    "    config_data = json.load(f)\n",
    "\n",
    "OPENAI_KEY = config_data['OPENAI_KEY']\n",
    "# openai.organization = config_data['OPENAI_ORG']\n",
    "openai.api_key = OPENAI_KEY"
   ]
  },
  {
   "cell_type": "code",
   "execution_count": 18,
   "metadata": {},
   "outputs": [],
   "source": [
    "def gpt35_response(prompt, style, temperature, token_limit):\n",
    "    try:\n",
    "        # Decide on the prompt style\n",
    "        prompt_content = prompt[\"raw_prompt\"] if style == 'raw' else prompt[\"refined_prompt\"]\n",
    "        prompt_content += \"\\nGenerate a RegEx for this description:\\n\\n\"\n",
    "\n",
    "        response = openai.ChatCompletion.create(\n",
    "            model=\"gpt-3.5-turbo\",\n",
    "            messages=[\n",
    "                {\n",
    "                    \"role\": \"user\",\n",
    "                    \"content\": prompt_content\n",
    "                }\n",
    "            ],\n",
    "            temperature=temperature,\n",
    "            max_tokens=token_limit,\n",
    "            n=10\n",
    "        )\n",
    "        prompt['output'] = response\n",
    "        time.sleep(10)\n",
    "        return prompt\n",
    "    except Exception as e:\n",
    "        print(e)\n",
    "        prompt['output'] = str(e)\n",
    "        time.sleep(30)\n",
    "        return prompt"
   ]
  },
  {
   "cell_type": "code",
   "execution_count": 19,
   "metadata": {},
   "outputs": [
    {
     "name": "stdout",
     "output_type": "stream",
     "text": [
      "['GPT3.5_Output_refined_0.4_128.json', 'GPT3.5_Output_raw_0.4_128.json', 'GPT3.5_Output_raw_0.8_128.json', 'GPT3.5_Output_raw_1.0_128.json', 'GPT3.5_Output_refined_0.2_128.json', 'GPT3.5_Output_raw_0.2_128.json', 'GPT3.5_Output_refined_0.8_128.json', 'GPT3.5_Output_refined_1.0_128.json', 'GPT3.5_Output_raw_0.6_128.json', 'GPT3.5_Output_refined_0.6_128.json', 'GPT3.5_Output_raw_0.0_128.json', 'GPT3.5_Output_refined_0.0_128.json']\n"
     ]
    }
   ],
   "source": [
    "# Get list of all files in the directory\n",
    "folder_name = 'gpt35'\n",
    "files = os.listdir(f'./Output/{folder_name}/')\n",
    "json_files = [file for file in files if file.endswith('128.json')]\n",
    "print(json_files)"
   ]
  },
  {
   "cell_type": "code",
   "execution_count": 20,
   "metadata": {},
   "outputs": [
    {
     "name": "stdout",
     "output_type": "stream",
     "text": [
      "refined 0.4 128\n",
      "raw 0.4 128\n",
      "raw 0.8 128\n",
      "raw 1.0 128\n",
      "refined 0.2 128\n",
      "raw 0.2 128\n",
      "refined 0.8 128\n",
      "refined 1.0 128\n",
      "raw 0.6 128\n",
      "refined 0.6 128\n",
      "raw 0.0 128\n",
      "refined 0.0 128\n"
     ]
    }
   ],
   "source": [
    "for file_name in json_files:\n",
    "    style = file_name.split('_')[2]\n",
    "    temperature = float(file_name.split('_')[3])\n",
    "    token_limit = int(file_name.split('_')[4].split('.')[0])\n",
    "    print(style, temperature, token_limit)\n",
    "\n",
    "    with open(f'./Output/gpt35/{file_name}') as f:\n",
    "        data = json.load(f)\n",
    "    for i in range(len(data)):\n",
    "        if \"choices\" not in data[i][\"output\"]:\n",
    "            data[i] = gpt35_response(data[i], style, temperature, token_limit)\n",
    "\n",
    "    with open(f'./Output/gpt35/{file_name}', 'w') as f:\n",
    "        json.dump(data, f, indent=4)\n",
    "\n",
    "\n"
   ]
  },
  {
   "cell_type": "code",
   "execution_count": null,
   "metadata": {},
   "outputs": [],
   "source": []
  }
 ],
 "metadata": {
  "kernelspec": {
   "display_name": "Python 3",
   "language": "python",
   "name": "python3"
  },
  "language_info": {
   "codemirror_mode": {
    "name": "ipython",
    "version": 3
   },
   "file_extension": ".py",
   "mimetype": "text/x-python",
   "name": "python",
   "nbconvert_exporter": "python",
   "pygments_lexer": "ipython3",
   "version": "3.9.4"
  }
 },
 "nbformat": 4,
 "nbformat_minor": 2
}
