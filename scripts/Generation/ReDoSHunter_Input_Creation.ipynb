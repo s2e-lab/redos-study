{
 "cells": [
  {
   "cell_type": "code",
   "execution_count": 70,
   "metadata": {},
   "outputs": [],
   "source": [
    "import json\n",
    "import os"
   ]
  },
  {
   "cell_type": "code",
   "execution_count": 71,
   "metadata": {},
   "outputs": [
    {
     "name": "stdout",
     "output_type": "stream",
     "text": [
      "['GPT3.5_Output_refined_0.4_128.json', 'GPT3.5_Output_raw_0.4_128.json', 'GPT3.5_Output_raw_0.8_128.json', 'GPT3.5_Output_raw_1.0_128.json', 'GPT3.5_Output_refined_0.2_128.json', 'GPT3.5_Output_raw_0.2_128.json', 'GPT3.5_Output_refined_0.8_128.json', 'GPT3.5_Output_refined_1.0_128.json', 'GPT3.5_Output_raw_0.6_128.json', 'GPT3.5_Output_refined_0.6_128.json', 'GPT3.5_Output_raw_0.0_128.json', 'GPT3.5_Output_refined_0.0_128.json']\n"
     ]
    }
   ],
   "source": [
    "# Get list of all files in the directory\n",
    "folder_name = 'gpt35'\n",
    "files = os.listdir(f'./Output/{folder_name}/')\n",
    "json_files = [file for file in files if file.endswith('128.json')]\n",
    "print(json_files)"
   ]
  },
  {
   "cell_type": "code",
   "execution_count": 72,
   "metadata": {},
   "outputs": [],
   "source": [
    "for file in json_files:\n",
    "    \n",
    "    with open(f'./Output/{folder_name}/{file}') as f:\n",
    "        data = json.load(f)\n",
    "    \n",
    "    new_data = []\n",
    "    for item in data:\n",
    "        if 'gpt' not in folder_name:\n",
    "            for i in range(len(item['output'])):\n",
    "                text = item['output'][i]['text']\n",
    "                new_data.append(text)\n",
    "        else:\n",
    "            for i in range(len(item['output']['choices'])):\n",
    "                text = item['output']['choices'][i]['message']['content']\n",
    "                # text = fix_text(text)\n",
    "                new_data.append(text)\n",
    "    new_data = list(set(new_data))\n",
    "    file = file.replace('.json', '.txt')\n",
    "    with open(f'./ReDoSHunterInput/{folder_name}/{file}', 'w') as f:\n",
    "        for item in new_data:\n",
    "            f.write(\"%s\\n\" % item)"
   ]
  }
 ],
 "metadata": {
  "kernelspec": {
   "display_name": "Python 3",
   "language": "python",
   "name": "python3"
  },
  "language_info": {
   "codemirror_mode": {
    "name": "ipython",
    "version": 3
   },
   "file_extension": ".py",
   "mimetype": "text/x-python",
   "name": "python",
   "nbconvert_exporter": "python",
   "pygments_lexer": "ipython3",
   "version": "3.9.4"
  }
 },
 "nbformat": 4,
 "nbformat_minor": 2
}
