{
 "cells": [
  {
   "cell_type": "code",
   "execution_count": 23,
   "metadata": {},
   "outputs": [],
   "source": [
    "import json\n",
    "import os"
   ]
  },
  {
   "cell_type": "code",
   "execution_count": 24,
   "metadata": {},
   "outputs": [
    {
     "name": "stdout",
     "output_type": "stream",
     "text": [
      "['T5_Output_refined_0.4_128.json', 'T5_Output_raw_0.4_128.json', 'T5_Output_raw_0.2_128.json', 'T5_Output_raw_1.0_128.json', 'T5_Output_raw_0.8_128.json', 'T5_Output_refined_0.2_128.json', 'T5_Output_refined_1.0_128.json', 'T5_Output_refined_0.8_128.json', 'T5_Output_raw_0.6_128.json', 'T5_Output_refined_0.6_128.json', 'T5_Output_refined_0.0_128.json', 'T5_Output_raw_0.0_128.json']\n"
     ]
    }
   ],
   "source": [
    "# Get list of all files in the directory\n",
    "folder_name = 't5'\n",
    "files = os.listdir(f'./Output/{folder_name}/')\n",
    "json_files = [file for file in files if file.endswith('128.json')]\n",
    "print(json_files)"
   ]
  },
  {
   "cell_type": "code",
   "execution_count": 25,
   "metadata": {},
   "outputs": [],
   "source": [
    "count_data = []\n",
    "for file in json_files:    \n",
    "    with open(f'./Output/{folder_name}/{file}') as f:\n",
    "        data = json.load(f)\n",
    "    \n",
    "    new_data = []\n",
    "    for item in data:\n",
    "        if 'gpt' not in folder_name:\n",
    "            for i in range(len(item['output'])):\n",
    "                text = item['output'][i]['text']\n",
    "                new_data.append(text)\n",
    "        else:\n",
    "            for i in range(len(item['output']['choices'])):\n",
    "                text = item['output']['choices'][i]['message']['content']\n",
    "                # text = fix_text(text)\n",
    "                new_data.append(text)\n",
    "    new_data = list(set(new_data))\n",
    "    file = file.replace('.json', '.txt')\n",
    "    with open(f'./ReDoSHunterInput/{folder_name}/{file}', 'w') as f:\n",
    "        for item in new_data:\n",
    "            f.write(\"%s\\n\" % item)\n",
    "    \n",
    "    model = file.split('_')[0]\n",
    "    prompt_type = file.split('_')[2]\n",
    "    temp  = file.split('_')[3]\n",
    "    count_data.append([model, prompt_type, temp, len(new_data)])\n"
   ]
  },
  {
   "cell_type": "code",
   "execution_count": 26,
   "metadata": {},
   "outputs": [
    {
     "name": "stdout",
     "output_type": "stream",
     "text": [
      "660\n",
      "3284\n",
      "4387\n",
      "5176\n",
      "5830\n",
      "6335\n",
      "724\n",
      "3631\n",
      "5112\n",
      "6059\n",
      "6659\n",
      "7076\n"
     ]
    }
   ],
   "source": [
    "count_data = sorted(sorted(sorted(count_data, key=lambda x: x[0]), key=lambda x: x[2]), key=lambda x: x[1])\n",
    "for item  in count_data:\n",
    "    # print(item[0])\n",
    "    # print(item[1])\n",
    "    # print(item[2])\n",
    "    # print(item[3])\n",
    "    # print('------------------')\n",
    "    print(item[3])"
   ]
  },
  {
   "cell_type": "code",
   "execution_count": null,
   "metadata": {},
   "outputs": [],
   "source": []
  }
 ],
 "metadata": {
  "kernelspec": {
   "display_name": "Python 3",
   "language": "python",
   "name": "python3"
  },
  "language_info": {
   "codemirror_mode": {
    "name": "ipython",
    "version": 3
   },
   "file_extension": ".py",
   "mimetype": "text/x-python",
   "name": "python",
   "nbconvert_exporter": "python",
   "pygments_lexer": "ipython3",
   "version": "3.9.4"
  }
 },
 "nbformat": 4,
 "nbformat_minor": 2
}
