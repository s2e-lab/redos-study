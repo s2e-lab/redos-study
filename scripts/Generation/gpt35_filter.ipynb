{
 "cells": [
  {
   "cell_type": "code",
   "execution_count": 4,
   "metadata": {},
   "outputs": [],
   "source": [
    "import json\n",
    "import os"
   ]
  },
  {
   "cell_type": "code",
   "execution_count": 5,
   "metadata": {},
   "outputs": [],
   "source": [
    "def fix_text(text):\n",
    "    found = False\n",
    "    output = ''\n",
    "    never_found = True\n",
    "    for line in text.split('\\n'):\n",
    "        if found and \"```\" in line:\n",
    "            found = False\n",
    "        elif found:\n",
    "            output += line + '\\n'\n",
    "        else:\n",
    "            if \"```\" in line:\n",
    "                found = True\n",
    "                never_found = False\n",
    "    if never_found:\n",
    "        output = ''\n",
    "        found = False\n",
    "        for line in text.split('\\n'):\n",
    "            line = line.strip()\n",
    "            if len(line) == 0:\n",
    "                continue\n",
    "            if 'explanation:' in line.lower() or 'import re' in line.lower() or 'regex ' in line.lower() or 'to ' in line.lower() or 'regular expression' in line.lower():\n",
    "                found = True\n",
    "            if not found:\n",
    "                output += line + '\\n'\n",
    "        return output.strip()\n",
    "    else:\n",
    "        text = output\n",
    "        found = False\n",
    "        output = ''\n",
    "        for line in text.split('\\n'):\n",
    "            line = line.strip()\n",
    "            if len(line) == 0:\n",
    "                continue\n",
    "            if 'explanation:' in line.lower() or 'import re' in line.lower() or 'regex ' in line.lower() or 'to ' in line.lower() or 'regular expression' in line.lower():\n",
    "                found = True\n",
    "            if not found:\n",
    "                output += line + '\\n'\n",
    "        return output.strip()\n",
    "\n"
   ]
  },
  {
   "cell_type": "code",
   "execution_count": 6,
   "metadata": {},
   "outputs": [
    {
     "name": "stdout",
     "output_type": "stream",
     "text": [
      "['GPT3.5_Output_raw_0.8_128_original.json', 'GPT3.5_Output_refined_0.8_128_original.json', 'GPT3.5_Output_refined_0.4_128_original.json', 'GPT3.5_Output_raw_0.6_128_original.json', 'GPT3.5_Output_refined_1.0_128_original.json', 'GPT3.5_Output_raw_0.2_128_original.json', 'GPT3.5_Output_refined_0.0_128_original.json', 'GPT3.5_Output_refined_0.6_128_original.json', 'GPT3.5_Output_raw_0.4_128_original.json', 'GPT3.5_Output_raw_1.0_128_original.json', 'GPT3.5_Output_raw_0.0_128_original.json', 'GPT3.5_Output_refined_0.2_128_original.json']\n"
     ]
    }
   ],
   "source": [
    "# Get list of all files in the directory\n",
    "files = os.listdir('./Output/gpt35/')\n",
    "json_files = [file for file in files if file.endswith('.json')]\n",
    "print(json_files)"
   ]
  },
  {
   "cell_type": "code",
   "execution_count": 7,
   "metadata": {},
   "outputs": [],
   "source": [
    "for file in json_files:\n",
    "\n",
    "    with open(f'./Output/gpt35/{file}') as f:\n",
    "        data = json.load(f)\n",
    "    \n",
    "    new_data = []\n",
    "    for item in data:\n",
    "\n",
    "        for i in range(len(item['output']['choices'])):\n",
    "            text = item['output']['choices'][i]['message']['content']\n",
    "            item['output']['choices'][i]['message']['content']  = fix_text(str(text))\n",
    "        new_data.append(item)\n",
    "\n",
    "    file = file.replace('_original.json','.json')\n",
    "    with open(f'./Output/gpt35/{file}', 'w') as f:\n",
    "        json.dump(new_data, f, indent=4)\n"
   ]
  },
  {
   "cell_type": "code",
   "execution_count": null,
   "metadata": {},
   "outputs": [],
   "source": []
  }
 ],
 "metadata": {
  "kernelspec": {
   "display_name": "Python 3",
   "language": "python",
   "name": "python3"
  },
  "language_info": {
   "codemirror_mode": {
    "name": "ipython",
    "version": 3
   },
   "file_extension": ".py",
   "mimetype": "text/x-python",
   "name": "python",
   "nbconvert_exporter": "python",
   "pygments_lexer": "ipython3",
   "version": "3.9.4"
  }
 },
 "nbformat": 4,
 "nbformat_minor": 2
}
