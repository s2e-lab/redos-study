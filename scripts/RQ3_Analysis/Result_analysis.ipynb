{
 "cells": [
  {
   "cell_type": "code",
   "execution_count": 29,
   "metadata": {},
   "outputs": [],
   "source": [
    "import os\n",
    "\n",
    "import pandas as pd"
   ]
  },
  {
   "cell_type": "code",
   "execution_count": 30,
   "metadata": {},
   "outputs": [],
   "source": [
    "def parse_rescue(text):\n",
    "    # Split the text into sections using \"id:\" as a delimiter\n",
    "\n",
    "    sections = text.split('++++++++++++++++++++++++++++++++++++++++++++++++++++++++++++++++++++++++')\n",
    "    \n",
    "    # Initialize a list to store the parsed data\n",
    "    parsed_data = []\n",
    "    \n",
    "    # Iterate through each section (excluding the first empty section)\n",
    "    for section in sections:\n",
    "        # Initialize a dictionary to store the parsed information for this section\n",
    "        section_data = {}\n",
    "        \n",
    "        current_data = section.split('\\n')\n",
    "        # print(current_data)\n",
    "        if current_data[0] == '':\n",
    "            current_data = current_data[1:]\n",
    "        \n",
    "        if len(current_data) < 3:\n",
    "            continue\n",
    "        \n",
    "        # Extract the ID\n",
    "        section_data['id'] = (int(current_data[0].split(\":\")[-1].strip())-1)\n",
    "\n",
    "        section_data['regex_pattern'] = current_data[1].strip()\n",
    "        \n",
    "        section_data['status'] = current_data[2].strip()\n",
    "        \n",
    "        if section_data['status'] == \"RESULT-TRUE\":\n",
    "            section_data['status'] = True\n",
    "        else:\n",
    "            section_data['status'] = False\n",
    "\n",
    "        section_data['main_redos_pattern'] = current_data[3].strip()\n",
    "        section_data['attack_string'] = current_data[5].strip().split(\"AttackString:\")[-1][1:-1]\n",
    "        section_data['sub_redos_pattern'] = current_data[6].strip().split(\"patternType: \")[-1]\n",
    "        \n",
    "\n",
    "        # Append the parsed data for this section to the list\n",
    "        parsed_data.append(section_data)\n",
    "    \n",
    "    return parsed_data"
   ]
  },
  {
   "cell_type": "code",
   "execution_count": 31,
   "metadata": {},
   "outputs": [],
   "source": [
    "with open(\"Only_redos.txt\", \"r\") as f:\n",
    "    text = f.read()"
   ]
  },
  {
   "cell_type": "code",
   "execution_count": 32,
   "metadata": {},
   "outputs": [],
   "source": [
    "def find_item(parsed_data, current_id):\n",
    "    for item in parsed_data:\n",
    "        if item['id'] == current_id:\n",
    "            return item\n",
    "    return None"
   ]
  },
  {
   "cell_type": "code",
   "execution_count": 33,
   "metadata": {},
   "outputs": [],
   "source": [
    "parsed_data = parse_rescue(text)\n",
    "updated_data = []\n",
    "for current_id in range(0, 448):\n",
    "    item = find_item(parsed_data, current_id)\n",
    "    if item!=None:\n",
    "        updated_data.append([ item['status'], item['main_redos_pattern'], item['sub_redos_pattern'], item['attack_string']])\n",
    "    else:\n",
    "        updated_data.append([ False, \"\", \"\", \"\"])\n"
   ]
  },
  {
   "cell_type": "code",
   "execution_count": 34,
   "metadata": {},
   "outputs": [],
   "source": [
    "df = pd.DataFrame(updated_data, columns=['status', 'main_redos_pattern', 'sub_redos_pattern', 'attack_string'])\n",
    "df.to_csv(\"Only_redos.csv\", index=False)"
   ]
  },
  {
   "cell_type": "code",
   "execution_count": null,
   "metadata": {},
   "outputs": [],
   "source": []
  }
 ],
 "metadata": {
  "kernelspec": {
   "display_name": "Python 3",
   "language": "python",
   "name": "python3"
  },
  "language_info": {
   "codemirror_mode": {
    "name": "ipython",
    "version": 3
   },
   "file_extension": ".py",
   "mimetype": "text/x-python",
   "name": "python",
   "nbconvert_exporter": "python",
   "pygments_lexer": "ipython3",
   "version": "3.9.4"
  }
 },
 "nbformat": 4,
 "nbformat_minor": 2
}
