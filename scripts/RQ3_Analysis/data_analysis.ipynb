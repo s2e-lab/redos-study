{
 "cells": [
  {
   "cell_type": "code",
   "execution_count": 31,
   "metadata": {},
   "outputs": [],
   "source": [
    "import pandas as pd"
   ]
  },
  {
   "cell_type": "code",
   "execution_count": 32,
   "metadata": {},
   "outputs": [
    {
     "data": {
      "text/html": [
       "<div>\n",
       "<style scoped>\n",
       "    .dataframe tbody tr th:only-of-type {\n",
       "        vertical-align: middle;\n",
       "    }\n",
       "\n",
       "    .dataframe tbody tr th {\n",
       "        vertical-align: top;\n",
       "    }\n",
       "\n",
       "    .dataframe thead th {\n",
       "        text-align: right;\n",
       "    }\n",
       "</style>\n",
       "<table border=\"1\" class=\"dataframe\">\n",
       "  <thead>\n",
       "    <tr style=\"text-align: right;\">\n",
       "      <th></th>\n",
       "      <th>Source</th>\n",
       "      <th>main_redos_pattern</th>\n",
       "      <th>sub_redos_pattern</th>\n",
       "      <th>Group</th>\n",
       "    </tr>\n",
       "  </thead>\n",
       "  <tbody>\n",
       "    <tr>\n",
       "      <th>0</th>\n",
       "      <td>SOLA-DA</td>\n",
       "      <td>POLYNOMIAL</td>\n",
       "      <td>POA</td>\n",
       "      <td>C4#L2</td>\n",
       "    </tr>\n",
       "    <tr>\n",
       "      <th>1</th>\n",
       "      <td>SOLA-DA</td>\n",
       "      <td>POLYNOMIAL</td>\n",
       "      <td>SLQ2</td>\n",
       "      <td>C1#C3#L1</td>\n",
       "    </tr>\n",
       "    <tr>\n",
       "      <th>2</th>\n",
       "      <td>SOLA-DA</td>\n",
       "      <td>POLYNOMIAL</td>\n",
       "      <td>SLQ2</td>\n",
       "      <td>C4#L2#C2#T3</td>\n",
       "    </tr>\n",
       "    <tr>\n",
       "      <th>3</th>\n",
       "      <td>SOLA-DA</td>\n",
       "      <td>POLYNOMIAL</td>\n",
       "      <td>SLQ2</td>\n",
       "      <td>C4#L2#T3</td>\n",
       "    </tr>\n",
       "    <tr>\n",
       "      <th>4</th>\n",
       "      <td>SOLA-DA</td>\n",
       "      <td>POLYNOMIAL</td>\n",
       "      <td>SLQ2</td>\n",
       "      <td>C4#L2#T3#L3#D2#T1</td>\n",
       "    </tr>\n",
       "  </tbody>\n",
       "</table>\n",
       "</div>"
      ],
      "text/plain": [
       "    Source main_redos_pattern sub_redos_pattern              Group\n",
       "0  SOLA-DA         POLYNOMIAL               POA              C4#L2\n",
       "1  SOLA-DA         POLYNOMIAL              SLQ2           C1#C3#L1\n",
       "2  SOLA-DA         POLYNOMIAL              SLQ2        C4#L2#C2#T3\n",
       "3  SOLA-DA         POLYNOMIAL              SLQ2           C4#L2#T3\n",
       "4  SOLA-DA         POLYNOMIAL              SLQ2  C4#L2#T3#L3#D2#T1"
      ]
     },
     "execution_count": 32,
     "metadata": {},
     "output_type": "execute_result"
    }
   ],
   "source": [
    "df = pd.read_csv('RQ3_ReDoS.csv')\n",
    "\n",
    "# Get only for these columns model_name, prompt_type, temperature and main_redos_pattern\n",
    "df = df[['Source', 'main_redos_pattern', 'sub_redos_pattern','Group']]\n",
    "df.head()"
   ]
  },
  {
   "cell_type": "code",
   "execution_count": 33,
   "metadata": {},
   "outputs": [
    {
     "name": "stderr",
     "output_type": "stream",
     "text": [
      "/var/folders/9d/98myd0lx1rn2j76hx3t96x1r0000gn/T/ipykernel_59634/2101923047.py:6: FutureWarning: Series.__getitem__ treating keys as positions is deprecated. In a future version, integer keys will always be treated as labels (consistent with DataFrame behavior). To access a value by position, use `ser.iloc[pos]`\n",
      "  class_data.append([name[0], sub_name[0], sub_group.count()[0]])\n",
      "/var/folders/9d/98myd0lx1rn2j76hx3t96x1r0000gn/T/ipykernel_59634/2101923047.py:6: FutureWarning: Series.__getitem__ treating keys as positions is deprecated. In a future version, integer keys will always be treated as labels (consistent with DataFrame behavior). To access a value by position, use `ser.iloc[pos]`\n",
      "  class_data.append([name[0], sub_name[0], sub_group.count()[0]])\n",
      "/var/folders/9d/98myd0lx1rn2j76hx3t96x1r0000gn/T/ipykernel_59634/2101923047.py:6: FutureWarning: Series.__getitem__ treating keys as positions is deprecated. In a future version, integer keys will always be treated as labels (consistent with DataFrame behavior). To access a value by position, use `ser.iloc[pos]`\n",
      "  class_data.append([name[0], sub_name[0], sub_group.count()[0]])\n",
      "/var/folders/9d/98myd0lx1rn2j76hx3t96x1r0000gn/T/ipykernel_59634/2101923047.py:6: FutureWarning: Series.__getitem__ treating keys as positions is deprecated. In a future version, integer keys will always be treated as labels (consistent with DataFrame behavior). To access a value by position, use `ser.iloc[pos]`\n",
      "  class_data.append([name[0], sub_name[0], sub_group.count()[0]])\n",
      "/var/folders/9d/98myd0lx1rn2j76hx3t96x1r0000gn/T/ipykernel_59634/2101923047.py:6: FutureWarning: Series.__getitem__ treating keys as positions is deprecated. In a future version, integer keys will always be treated as labels (consistent with DataFrame behavior). To access a value by position, use `ser.iloc[pos]`\n",
      "  class_data.append([name[0], sub_name[0], sub_group.count()[0]])\n",
      "/var/folders/9d/98myd0lx1rn2j76hx3t96x1r0000gn/T/ipykernel_59634/2101923047.py:6: FutureWarning: Series.__getitem__ treating keys as positions is deprecated. In a future version, integer keys will always be treated as labels (consistent with DataFrame behavior). To access a value by position, use `ser.iloc[pos]`\n",
      "  class_data.append([name[0], sub_name[0], sub_group.count()[0]])\n",
      "/var/folders/9d/98myd0lx1rn2j76hx3t96x1r0000gn/T/ipykernel_59634/2101923047.py:6: FutureWarning: Series.__getitem__ treating keys as positions is deprecated. In a future version, integer keys will always be treated as labels (consistent with DataFrame behavior). To access a value by position, use `ser.iloc[pos]`\n",
      "  class_data.append([name[0], sub_name[0], sub_group.count()[0]])\n",
      "/var/folders/9d/98myd0lx1rn2j76hx3t96x1r0000gn/T/ipykernel_59634/2101923047.py:6: FutureWarning: Series.__getitem__ treating keys as positions is deprecated. In a future version, integer keys will always be treated as labels (consistent with DataFrame behavior). To access a value by position, use `ser.iloc[pos]`\n",
      "  class_data.append([name[0], sub_name[0], sub_group.count()[0]])\n",
      "/var/folders/9d/98myd0lx1rn2j76hx3t96x1r0000gn/T/ipykernel_59634/2101923047.py:6: FutureWarning: Series.__getitem__ treating keys as positions is deprecated. In a future version, integer keys will always be treated as labels (consistent with DataFrame behavior). To access a value by position, use `ser.iloc[pos]`\n",
      "  class_data.append([name[0], sub_name[0], sub_group.count()[0]])\n",
      "/var/folders/9d/98myd0lx1rn2j76hx3t96x1r0000gn/T/ipykernel_59634/2101923047.py:6: FutureWarning: Series.__getitem__ treating keys as positions is deprecated. In a future version, integer keys will always be treated as labels (consistent with DataFrame behavior). To access a value by position, use `ser.iloc[pos]`\n",
      "  class_data.append([name[0], sub_name[0], sub_group.count()[0]])\n",
      "/var/folders/9d/98myd0lx1rn2j76hx3t96x1r0000gn/T/ipykernel_59634/2101923047.py:6: FutureWarning: Series.__getitem__ treating keys as positions is deprecated. In a future version, integer keys will always be treated as labels (consistent with DataFrame behavior). To access a value by position, use `ser.iloc[pos]`\n",
      "  class_data.append([name[0], sub_name[0], sub_group.count()[0]])\n",
      "/var/folders/9d/98myd0lx1rn2j76hx3t96x1r0000gn/T/ipykernel_59634/2101923047.py:6: FutureWarning: Series.__getitem__ treating keys as positions is deprecated. In a future version, integer keys will always be treated as labels (consistent with DataFrame behavior). To access a value by position, use `ser.iloc[pos]`\n",
      "  class_data.append([name[0], sub_name[0], sub_group.count()[0]])\n",
      "/var/folders/9d/98myd0lx1rn2j76hx3t96x1r0000gn/T/ipykernel_59634/2101923047.py:6: FutureWarning: Series.__getitem__ treating keys as positions is deprecated. In a future version, integer keys will always be treated as labels (consistent with DataFrame behavior). To access a value by position, use `ser.iloc[pos]`\n",
      "  class_data.append([name[0], sub_name[0], sub_group.count()[0]])\n",
      "/var/folders/9d/98myd0lx1rn2j76hx3t96x1r0000gn/T/ipykernel_59634/2101923047.py:6: FutureWarning: Series.__getitem__ treating keys as positions is deprecated. In a future version, integer keys will always be treated as labels (consistent with DataFrame behavior). To access a value by position, use `ser.iloc[pos]`\n",
      "  class_data.append([name[0], sub_name[0], sub_group.count()[0]])\n",
      "/var/folders/9d/98myd0lx1rn2j76hx3t96x1r0000gn/T/ipykernel_59634/2101923047.py:6: FutureWarning: Series.__getitem__ treating keys as positions is deprecated. In a future version, integer keys will always be treated as labels (consistent with DataFrame behavior). To access a value by position, use `ser.iloc[pos]`\n",
      "  class_data.append([name[0], sub_name[0], sub_group.count()[0]])\n",
      "/var/folders/9d/98myd0lx1rn2j76hx3t96x1r0000gn/T/ipykernel_59634/2101923047.py:6: FutureWarning: Series.__getitem__ treating keys as positions is deprecated. In a future version, integer keys will always be treated as labels (consistent with DataFrame behavior). To access a value by position, use `ser.iloc[pos]`\n",
      "  class_data.append([name[0], sub_name[0], sub_group.count()[0]])\n"
     ]
    }
   ],
   "source": [
    "class_data = []\n",
    "groups =  df.groupby(['Source'])\n",
    "for name, group in groups:\n",
    "    sub_group = group.groupby([ 'sub_redos_pattern'])  \n",
    "    for sub_name, sub_group in sub_group:\n",
    "        class_data.append([name[0], sub_name[0], sub_group.count()[0]])\n"
   ]
  },
  {
   "cell_type": "code",
   "execution_count": 34,
   "metadata": {},
   "outputs": [],
   "source": [
    "df = pd.DataFrame(class_data, columns=['Source', 'sub_redos_pattern', 'count'])\n",
    "df.to_csv('RQ3_ReDoS_sub.csv', index=False)"
   ]
  },
  {
   "cell_type": "code",
   "execution_count": 35,
   "metadata": {},
   "outputs": [
    {
     "data": {
      "text/html": [
       "<div>\n",
       "<style scoped>\n",
       "    .dataframe tbody tr th:only-of-type {\n",
       "        vertical-align: middle;\n",
       "    }\n",
       "\n",
       "    .dataframe tbody tr th {\n",
       "        vertical-align: top;\n",
       "    }\n",
       "\n",
       "    .dataframe thead th {\n",
       "        text-align: right;\n",
       "    }\n",
       "</style>\n",
       "<table border=\"1\" class=\"dataframe\">\n",
       "  <thead>\n",
       "    <tr style=\"text-align: right;\">\n",
       "      <th></th>\n",
       "      <th>Source</th>\n",
       "      <th>main_redos_pattern</th>\n",
       "      <th>sub_redos_pattern</th>\n",
       "      <th>Group</th>\n",
       "    </tr>\n",
       "  </thead>\n",
       "  <tbody>\n",
       "    <tr>\n",
       "      <th>0</th>\n",
       "      <td>SOLA-DA</td>\n",
       "      <td>POLYNOMIAL</td>\n",
       "      <td>POA</td>\n",
       "      <td>C4#L2</td>\n",
       "    </tr>\n",
       "    <tr>\n",
       "      <th>1</th>\n",
       "      <td>SOLA-DA</td>\n",
       "      <td>POLYNOMIAL</td>\n",
       "      <td>SLQ2</td>\n",
       "      <td>C1#C3#L1</td>\n",
       "    </tr>\n",
       "    <tr>\n",
       "      <th>2</th>\n",
       "      <td>SOLA-DA</td>\n",
       "      <td>POLYNOMIAL</td>\n",
       "      <td>SLQ2</td>\n",
       "      <td>C4#L2#C2#T3</td>\n",
       "    </tr>\n",
       "    <tr>\n",
       "      <th>3</th>\n",
       "      <td>SOLA-DA</td>\n",
       "      <td>POLYNOMIAL</td>\n",
       "      <td>SLQ2</td>\n",
       "      <td>C4#L2#T3</td>\n",
       "    </tr>\n",
       "    <tr>\n",
       "      <th>4</th>\n",
       "      <td>SOLA-DA</td>\n",
       "      <td>POLYNOMIAL</td>\n",
       "      <td>SLQ2</td>\n",
       "      <td>C4#L2#T3#L3#D2#T1</td>\n",
       "    </tr>\n",
       "  </tbody>\n",
       "</table>\n",
       "</div>"
      ],
      "text/plain": [
       "    Source main_redos_pattern sub_redos_pattern              Group\n",
       "0  SOLA-DA         POLYNOMIAL               POA              C4#L2\n",
       "1  SOLA-DA         POLYNOMIAL              SLQ2           C1#C3#L1\n",
       "2  SOLA-DA         POLYNOMIAL              SLQ2        C4#L2#C2#T3\n",
       "3  SOLA-DA         POLYNOMIAL              SLQ2           C4#L2#T3\n",
       "4  SOLA-DA         POLYNOMIAL              SLQ2  C4#L2#T3#L3#D2#T1"
      ]
     },
     "execution_count": 35,
     "metadata": {},
     "output_type": "execute_result"
    }
   ],
   "source": [
    "df = pd.read_csv('RQ3_ReDoS.csv')\n",
    "\n",
    "# Get only for these columns model_name, prompt_type, temperature and main_redos_pattern\n",
    "df = df[['Source', 'main_redos_pattern', 'sub_redos_pattern','Group']]\n",
    "df.head()"
   ]
  },
  {
   "cell_type": "code",
   "execution_count": 36,
   "metadata": {},
   "outputs": [],
   "source": [
    "from collections import defaultdict"
   ]
  },
  {
   "cell_type": "code",
   "execution_count": 37,
   "metadata": {},
   "outputs": [],
   "source": [
    "counter1 ={\n",
    "    'SOLA-DA': defaultdict(int),\n",
    "    'CVE': defaultdict(int)\n",
    "}\n",
    "counter2 ={\n",
    "    'POLYNOMIAL': defaultdict(int),\n",
    "    'EXPONENT': defaultdict(int)\n",
    "}"
   ]
  },
  {
   "cell_type": "code",
   "execution_count": 38,
   "metadata": {},
   "outputs": [],
   "source": [
    "for index, row in df.iterrows():\n",
    "    groups = list(set(row['Group'].split('#')))\n",
    "    for group in groups:\n",
    "        if len(group) <=1:\n",
    "            continue\n",
    "        counter1[row['Source']][group] += 1\n",
    "        # Add a check for nan\n",
    "        if row['main_redos_pattern'] == row['main_redos_pattern']:\n",
    "            counter2[row['main_redos_pattern']][group] += 1\n"
   ]
  },
  {
   "cell_type": "code",
   "execution_count": 39,
   "metadata": {},
   "outputs": [],
   "source": [
    "regex_class_data = []  \n",
    "for source in ['SOLA-DA', 'CVE']:\n",
    "    for group in counter1[source]:\n",
    "        regex_class_data.append([source, group, counter1[source][group]])"
   ]
  },
  {
   "cell_type": "code",
   "execution_count": 40,
   "metadata": {},
   "outputs": [],
   "source": [
    "df = pd.DataFrame(regex_class_data, columns=['source', 'group', 'count'])\n",
    "df.to_csv('regex_class_data.csv', index=False)"
   ]
  },
  {
   "cell_type": "code",
   "execution_count": 41,
   "metadata": {},
   "outputs": [],
   "source": [
    "regex_class_data = []  \n",
    "for pattern in ['POLYNOMIAL', 'EXPONENT']:\n",
    "    for group in counter2[pattern]:\n",
    "        regex_class_data.append([pattern, group, counter2[pattern][group]])\n",
    "\n",
    "        "
   ]
  },
  {
   "cell_type": "code",
   "execution_count": 42,
   "metadata": {},
   "outputs": [],
   "source": [
    "df = pd.DataFrame(regex_class_data, columns=['pattern', 'group', 'count'])\n",
    "df.to_csv('regex_class_data2.csv', index=False)"
   ]
  }
 ],
 "metadata": {
  "kernelspec": {
   "display_name": "Python 3",
   "language": "python",
   "name": "python3"
  },
  "language_info": {
   "codemirror_mode": {
    "name": "ipython",
    "version": 3
   },
   "file_extension": ".py",
   "mimetype": "text/x-python",
   "name": "python",
   "nbconvert_exporter": "python",
   "pygments_lexer": "ipython3",
   "version": "3.9.4"
  }
 },
 "nbformat": 4,
 "nbformat_minor": 2
}
